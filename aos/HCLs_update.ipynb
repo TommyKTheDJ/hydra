{
 "cells": [
  {
   "cell_type": "code",
   "execution_count": null,
   "metadata": {
    "collapsed": false
   },
   "outputs": [],
   "source": [
    "import requests\n",
    "import json\n",
    "import sys\n",
    "import os"
   ]
  },
  {
   "cell_type": "code",
   "execution_count": null,
   "metadata": {
    "collapsed": true
   },
   "outputs": [],
   "source": [
    "DEBUG = True\n",
    "AOS_HOST = '10.60.3.20'\n",
    "HCL_ENTRIES_FOLDER = '/var/hydra/aos/hcl'\n",
    "API_AUTH_ENDPOINT = '/api/aaa/login'\n",
    "API_HCL_ENDPOINT = '/api/hcl'"
   ]
  },
  {
   "cell_type": "code",
   "execution_count": null,
   "metadata": {
    "collapsed": false
   },
   "outputs": [],
   "source": [
    "data = { 'username' : 'admin', 'password' : raw_input() }\n",
    "r = requests.post('https://{0}{1}'.format(AOS_HOST,API_AUTH_ENDPOINT), data=json.dumps(data), verify=False)\n",
    "token = json.loads(r.text)['token']\n",
    "id = json.loads(r.text)['id']"
   ]
  },
  {
   "cell_type": "code",
   "execution_count": null,
   "metadata": {
    "collapsed": false
   },
   "outputs": [],
   "source": [
    "headers = {'AUTHTOKEN': token, 'id': id}\n",
    "r = requests.get('https://{0}{1}'.format(AOS_HOST,API_HCL_ENDPOINT), headers=headers, verify=False)\n",
    "json_data = json.loads(r.text)\n",
    "aos_hcls_dict = {}\n",
    "for item in json_data['items']:\n",
    "    item.pop(u'last_modified_at')\n",
    "    item.pop(u'created_at')\n",
    "    aos_hcls_dict[item[u'id']] = item"
   ]
  },
  {
   "cell_type": "code",
   "execution_count": null,
   "metadata": {
    "collapsed": true
   },
   "outputs": [],
   "source": [
    "def add_hcl_aos(u_token,u_id,hcl):\n",
    "    headers = {'AUTHTOKEN': u_token, 'id': u_id, 'Content-type': 'application/json', 'Accept': 'application/json'}\n",
    "    r = requests.post('https://{0}{1}'.format(AOS_HOST,API_HCL_ENDPOINT), headers=headers, json=hcl, verify=False)\n",
    "    return r"
   ]
  },
  {
   "cell_type": "code",
   "execution_count": null,
   "metadata": {
    "collapsed": true
   },
   "outputs": [],
   "source": [
    "def update_hcl_aos(u_token,u_id,hcl):\n",
    "    headers = {'AUTHTOKEN': u_token, 'id': u_id, 'Content-type': 'application/json', 'Accept': 'application/json'}\n",
    "    r = requests.put('https://{0}{1}/{2}'.format(AOS_HOST,API_HCL_ENDPOINT,hcl[u'id']), headers=headers, json=hcl, verify=False)\n",
    "    return r"
   ]
  },
  {
   "cell_type": "code",
   "execution_count": null,
   "metadata": {
    "collapsed": false
   },
   "outputs": [],
   "source": [
    "local_hcl_json_data = []\n",
    "added_counter = 0\n",
    "updated_counter = 0\n",
    "for fn in os.listdir(HCL_ENTRIES_FOLDER):\n",
    "    f=open(os.path.join(HCL_ENTRIES_FOLDER,fn),'r') \n",
    "    json_data=f.read()\n",
    "    hcl = json.loads(json_data)\n",
    "    local_hcl_json_data.append(hcl)\n",
    "    if hcl['id'] not in aos_hcls_dict.keys():\n",
    "        print 'HCL {} needs to be added'.format(hcl['id'])\n",
    "        r = add_hcl_aos(token,id,hcl)\n",
    "        if not r.status_code == requests.codes.ok:\n",
    "            raise Exception('HCL {} could not be added: response code = {}'.format(hcl['id'],r.status_code))\n",
    "        else:\n",
    "            added_counter +=1\n",
    "    elif not hcl == aos_hcls_dict[hcl['id']]:\n",
    "        print 'HCL {} needs to be updated'.format(hcl['id'])\n",
    "        r = update_hcl_aos(token,id,hcl)\n",
    "        print r.status_code\n",
    "        if not r.status_code == requests.codes.ok:\n",
    "            raise Exception('HCL {} could not be updated: response code = {}'.format(hcl['id'],r.status_code))\n",
    "        else:\n",
    "            updated_counter +=1\n",
    "\n",
    "print \"A Total of {} HCLs were added\".format(added_counter)\n",
    "print \"A Total of {} HCLs were updated\".format(updated_counter)"
   ]
  }
 ],
 "metadata": {
  "kernelspec": {
   "display_name": "Python 2",
   "language": "python",
   "name": "python2"
  },
  "language_info": {
   "codemirror_mode": {
    "name": "ipython",
    "version": 2
   },
   "file_extension": ".py",
   "mimetype": "text/x-python",
   "name": "python",
   "nbconvert_exporter": "python",
   "pygments_lexer": "ipython2",
   "version": "2.7.6"
  }
 },
 "nbformat": 4,
 "nbformat_minor": 0
}
